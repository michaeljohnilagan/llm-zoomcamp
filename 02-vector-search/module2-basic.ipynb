{
 "cells": [
  {
   "cell_type": "code",
   "execution_count": 2,
   "id": "ade82982-4acb-41fa-9a66-733a718dd5d0",
   "metadata": {},
   "outputs": [],
   "source": [
    "from datetime import datetime"
   ]
  },
  {
   "cell_type": "code",
   "execution_count": 3,
   "id": "efe86b7f-9f11-43cd-8daf-26e4dde267e4",
   "metadata": {},
   "outputs": [
    {
     "data": {
      "text/plain": [
       "CollectionsResponse(collections=[CollectionDescription(name='zoomcamp-rag')])"
      ]
     },
     "execution_count": 3,
     "metadata": {},
     "output_type": "execute_result"
    }
   ],
   "source": [
    "from qdrant_client import QdrantClient\n",
    "client = QdrantClient('http://localhost:6333')\n",
    "client.get_collections()"
   ]
  },
  {
   "cell_type": "code",
   "execution_count": 4,
   "id": "3b157165-8811-469f-95aa-cf99c6c6afc4",
   "metadata": {},
   "outputs": [],
   "source": [
    "import requests\n",
    "docs_url = 'https://github.com/alexeygrigorev/llm-rag-workshop/raw/main/notebooks/documents.json'\n",
    "docs_response = requests.get(docs_url)\n",
    "documents_raw = docs_response.json()"
   ]
  },
  {
   "cell_type": "code",
   "execution_count": 5,
   "id": "15881b96-a9bc-4ac5-b2af-ce0d0968a4fa",
   "metadata": {},
   "outputs": [
    {
     "name": "stdout",
     "output_type": "stream",
     "text": [
      "dict_keys(['course', 'documents'])\n",
      "dict_keys(['text', 'section', 'question'])\n",
      "['data-engineering-zoomcamp', 'machine-learning-zoomcamp', 'mlops-zoomcamp']\n"
     ]
    }
   ],
   "source": [
    "print(documents_raw[0].keys())\n",
    "print(documents_raw[0]['documents'][0].keys())\n",
    "print([d['course'] for d in documents_raw])"
   ]
  },
  {
   "cell_type": "code",
   "execution_count": 6,
   "id": "27c82316-ee17-4a60-baff-13290c1e0fff",
   "metadata": {},
   "outputs": [],
   "source": [
    "from fastembed import TextEmbedding"
   ]
  },
  {
   "cell_type": "code",
   "execution_count": 7,
   "id": "783fde71-3505-4f19-827d-9910088e3024",
   "metadata": {},
   "outputs": [
    {
     "data": {
      "text/html": [
       "<div>\n",
       "<style scoped>\n",
       "    .dataframe tbody tr th:only-of-type {\n",
       "        vertical-align: middle;\n",
       "    }\n",
       "\n",
       "    .dataframe tbody tr th {\n",
       "        vertical-align: top;\n",
       "    }\n",
       "\n",
       "    .dataframe thead th {\n",
       "        text-align: right;\n",
       "    }\n",
       "</style>\n",
       "<table border=\"1\" class=\"dataframe\">\n",
       "  <thead>\n",
       "    <tr style=\"text-align: right;\">\n",
       "      <th></th>\n",
       "      <th>model</th>\n",
       "      <th>sources</th>\n",
       "      <th>model_file</th>\n",
       "      <th>description</th>\n",
       "      <th>license</th>\n",
       "      <th>size_in_GB</th>\n",
       "      <th>additional_files</th>\n",
       "      <th>dim</th>\n",
       "      <th>tasks</th>\n",
       "    </tr>\n",
       "  </thead>\n",
       "  <tbody>\n",
       "    <tr>\n",
       "      <th>0</th>\n",
       "      <td>BAAI/bge-base-en</td>\n",
       "      <td>{'hf': 'Qdrant/fast-bge-base-en', 'url': 'http...</td>\n",
       "      <td>model_optimized.onnx</td>\n",
       "      <td>Text embeddings, Unimodal (text), English, 512...</td>\n",
       "      <td>mit</td>\n",
       "      <td>0.420</td>\n",
       "      <td>[]</td>\n",
       "      <td>768</td>\n",
       "      <td>{}</td>\n",
       "    </tr>\n",
       "    <tr>\n",
       "      <th>1</th>\n",
       "      <td>BAAI/bge-base-en-v1.5</td>\n",
       "      <td>{'hf': 'qdrant/bge-base-en-v1.5-onnx-q', 'url'...</td>\n",
       "      <td>model_optimized.onnx</td>\n",
       "      <td>Text embeddings, Unimodal (text), English, 512...</td>\n",
       "      <td>mit</td>\n",
       "      <td>0.210</td>\n",
       "      <td>[]</td>\n",
       "      <td>768</td>\n",
       "      <td>{}</td>\n",
       "    </tr>\n",
       "    <tr>\n",
       "      <th>2</th>\n",
       "      <td>BAAI/bge-large-en-v1.5</td>\n",
       "      <td>{'hf': 'qdrant/bge-large-en-v1.5-onnx', 'url':...</td>\n",
       "      <td>model.onnx</td>\n",
       "      <td>Text embeddings, Unimodal (text), English, 512...</td>\n",
       "      <td>mit</td>\n",
       "      <td>1.200</td>\n",
       "      <td>[]</td>\n",
       "      <td>1024</td>\n",
       "      <td>{}</td>\n",
       "    </tr>\n",
       "    <tr>\n",
       "      <th>3</th>\n",
       "      <td>BAAI/bge-small-en</td>\n",
       "      <td>{'hf': 'Qdrant/bge-small-en', 'url': 'https://...</td>\n",
       "      <td>model_optimized.onnx</td>\n",
       "      <td>Text embeddings, Unimodal (text), English, 512...</td>\n",
       "      <td>mit</td>\n",
       "      <td>0.130</td>\n",
       "      <td>[]</td>\n",
       "      <td>384</td>\n",
       "      <td>{}</td>\n",
       "    </tr>\n",
       "    <tr>\n",
       "      <th>4</th>\n",
       "      <td>BAAI/bge-small-en-v1.5</td>\n",
       "      <td>{'hf': 'qdrant/bge-small-en-v1.5-onnx-q', 'url...</td>\n",
       "      <td>model_optimized.onnx</td>\n",
       "      <td>Text embeddings, Unimodal (text), English, 512...</td>\n",
       "      <td>mit</td>\n",
       "      <td>0.067</td>\n",
       "      <td>[]</td>\n",
       "      <td>384</td>\n",
       "      <td>{}</td>\n",
       "    </tr>\n",
       "  </tbody>\n",
       "</table>\n",
       "</div>"
      ],
      "text/plain": [
       "                    model                                            sources  \\\n",
       "0        BAAI/bge-base-en  {'hf': 'Qdrant/fast-bge-base-en', 'url': 'http...   \n",
       "1   BAAI/bge-base-en-v1.5  {'hf': 'qdrant/bge-base-en-v1.5-onnx-q', 'url'...   \n",
       "2  BAAI/bge-large-en-v1.5  {'hf': 'qdrant/bge-large-en-v1.5-onnx', 'url':...   \n",
       "3       BAAI/bge-small-en  {'hf': 'Qdrant/bge-small-en', 'url': 'https://...   \n",
       "4  BAAI/bge-small-en-v1.5  {'hf': 'qdrant/bge-small-en-v1.5-onnx-q', 'url...   \n",
       "\n",
       "             model_file                                        description  \\\n",
       "0  model_optimized.onnx  Text embeddings, Unimodal (text), English, 512...   \n",
       "1  model_optimized.onnx  Text embeddings, Unimodal (text), English, 512...   \n",
       "2            model.onnx  Text embeddings, Unimodal (text), English, 512...   \n",
       "3  model_optimized.onnx  Text embeddings, Unimodal (text), English, 512...   \n",
       "4  model_optimized.onnx  Text embeddings, Unimodal (text), English, 512...   \n",
       "\n",
       "  license  size_in_GB additional_files   dim tasks  \n",
       "0     mit       0.420               []   768    {}  \n",
       "1     mit       0.210               []   768    {}  \n",
       "2     mit       1.200               []  1024    {}  \n",
       "3     mit       0.130               []   384    {}  \n",
       "4     mit       0.067               []   384    {}  "
      ]
     },
     "execution_count": 7,
     "metadata": {},
     "output_type": "execute_result"
    }
   ],
   "source": [
    "import pandas as pd\n",
    "df_supported_models = pd.DataFrame.from_records(TextEmbedding.list_supported_models())\n",
    "df_supported_models.head()"
   ]
  },
  {
   "cell_type": "code",
   "execution_count": 8,
   "id": "9c2b5a39-f5d3-4a87-b994-323852a789fb",
   "metadata": {},
   "outputs": [
    {
     "data": {
      "text/html": [
       "<div>\n",
       "<style scoped>\n",
       "    .dataframe tbody tr th:only-of-type {\n",
       "        vertical-align: middle;\n",
       "    }\n",
       "\n",
       "    .dataframe tbody tr th {\n",
       "        vertical-align: top;\n",
       "    }\n",
       "\n",
       "    .dataframe thead th {\n",
       "        text-align: right;\n",
       "    }\n",
       "</style>\n",
       "<table border=\"1\" class=\"dataframe\">\n",
       "  <thead>\n",
       "    <tr style=\"text-align: right;\">\n",
       "      <th></th>\n",
       "      <th>model</th>\n",
       "      <th>dim</th>\n",
       "      <th>description</th>\n",
       "    </tr>\n",
       "  </thead>\n",
       "  <tbody>\n",
       "    <tr>\n",
       "      <th>5</th>\n",
       "      <td>BAAI/bge-small-zh-v1.5</td>\n",
       "      <td>512</td>\n",
       "      <td>Text embeddings, Unimodal (text), Chinese, 512...</td>\n",
       "    </tr>\n",
       "    <tr>\n",
       "      <th>13</th>\n",
       "      <td>Qdrant/clip-ViT-B-32-text</td>\n",
       "      <td>512</td>\n",
       "      <td>Text embeddings, Multimodal (text&amp;image), Engl...</td>\n",
       "    </tr>\n",
       "    <tr>\n",
       "      <th>16</th>\n",
       "      <td>jinaai/jina-embeddings-v2-small-en</td>\n",
       "      <td>512</td>\n",
       "      <td>Text embeddings, Unimodal (text), English, 819...</td>\n",
       "    </tr>\n",
       "  </tbody>\n",
       "</table>\n",
       "</div>"
      ],
      "text/plain": [
       "                                 model  dim  \\\n",
       "5               BAAI/bge-small-zh-v1.5  512   \n",
       "13           Qdrant/clip-ViT-B-32-text  512   \n",
       "16  jinaai/jina-embeddings-v2-small-en  512   \n",
       "\n",
       "                                          description  \n",
       "5   Text embeddings, Unimodal (text), Chinese, 512...  \n",
       "13  Text embeddings, Multimodal (text&image), Engl...  \n",
       "16  Text embeddings, Unimodal (text), English, 819...  "
      ]
     },
     "execution_count": 8,
     "metadata": {},
     "output_type": "execute_result"
    }
   ],
   "source": [
    "EMBEDDING_DIMENSIONALITY = 512\n",
    "df_supported_models.loc[df_supported_models['dim']==EMBEDDING_DIMENSIONALITY, ['model', 'dim', 'description']]"
   ]
  },
  {
   "cell_type": "code",
   "execution_count": 9,
   "id": "570ddd8d-1af1-4d03-b7f7-ea5447175012",
   "metadata": {},
   "outputs": [
    {
     "name": "stdout",
     "output_type": "stream",
     "text": [
      "jinaai/jina-embeddings-v2-small-en\n"
     ]
    }
   ],
   "source": [
    "model_handle = 'jinaai/jina-embeddings-v2-small-en'\n",
    "print(model_handle)"
   ]
  },
  {
   "cell_type": "code",
   "execution_count": 13,
   "id": "2943887d-c8e3-4f9b-bc62-5b8854e62ce8",
   "metadata": {},
   "outputs": [
    {
     "data": {
      "text/plain": [
       "True"
      ]
     },
     "execution_count": 13,
     "metadata": {},
     "output_type": "execute_result"
    }
   ],
   "source": [
    "from qdrant_client import models\n",
    "collection_name = 'zoomcamp-rag'\n",
    "client.delete_collection(collection_name=collection_name)\n",
    "client.create_collection(\n",
    "\tcollection_name=collection_name,\n",
    "\tvectors_config=models.VectorParams(\n",
    "\t\tsize=EMBEDDING_DIMENSIONALITY,\n",
    "\t\tdistance=models.Distance.COSINE\n",
    "\t)\n",
    ")"
   ]
  },
  {
   "cell_type": "code",
   "execution_count": 14,
   "id": "e32918e2-ca61-4f44-b6fb-02dbdece476f",
   "metadata": {},
   "outputs": [],
   "source": [
    "points = []\n",
    "id = 0\n",
    "number_of_docs_used_per_course = 50 # just to limit use of codespace\n",
    "\n",
    "for course in documents_raw:\n",
    "\tfor doc in course['documents'][:number_of_docs_used_per_course]:\n",
    "\t\tpoint = models.PointStruct(\n",
    "            id=id,\n",
    "\t\t\tvector=models.Document(text=doc['text'], model=model_handle),\n",
    "\t\t\tpayload={\n",
    "\t\t\t\t'text' : doc['text'],\n",
    "\t\t\t\t'section' : doc['section'],\n",
    "\t\t\t\t'course' : course['course'],\n",
    "\t\t\t}\n",
    "\t\t)\n",
    "\t\tpoints.append(point)\n",
    "\t\tid = id+1"
   ]
  },
  {
   "cell_type": "code",
   "execution_count": 15,
   "id": "2a3a5add-a136-4fc6-b0a1-bb30cb10e35a",
   "metadata": {},
   "outputs": [
    {
     "name": "stdout",
     "output_type": "stream",
     "text": [
      "2025-06-27 01:29:49.934865\n",
      "2025-06-27 01:30:11.073586\n"
     ]
    }
   ],
   "source": [
    "print(datetime.now())\n",
    "client.upsert(\n",
    "\tcollection_name=collection_name,\n",
    "\tpoints=points\n",
    ")\n",
    "print(datetime.now())"
   ]
  },
  {
   "cell_type": "code",
   "execution_count": 16,
   "id": "9501e98d-3a7e-4d72-871d-31623e04fc19",
   "metadata": {},
   "outputs": [],
   "source": [
    "def search(query, limit=1):\n",
    "    results = client.query_points(\n",
    "        collection_name=collection_name,\n",
    "        query=models.Document(\n",
    "            text=query,\n",
    "            model=model_handle\n",
    "        ),\n",
    "        limit=limit,\n",
    "        with_payload=True\n",
    "    )\n",
    "    return results"
   ]
  },
  {
   "cell_type": "code",
   "execution_count": 17,
   "id": "ea2997d6-d4f7-4a27-ba09-ffc7250f46da",
   "metadata": {},
   "outputs": [
    {
     "name": "stdout",
     "output_type": "stream",
     "text": [
      "{\n",
      "  \"text\": \"Even though the upload works using aws cli and boto3 in Jupyter notebook.\\nSolution set the AWS_PROFILE environment variable (the default profile is called default)\",\n",
      "  \"section\": \"Module 4: Deployment\",\n",
      "  \"question\": \"Uploading to s3 fails with An error occurred (InvalidAccessKeyId) when calling the PutObject operation: The AWS Access Key Id you provided does not exist in our records.\\\"\"\n",
      "}\n"
     ]
    }
   ],
   "source": [
    "import random\n",
    "import json\n",
    "\n",
    "random.seed(202506)\n",
    "\n",
    "course = random.choice(documents_raw)\n",
    "course_piece = random.choice(course['documents'])\n",
    "print(json.dumps(course_piece, indent=2))"
   ]
  },
  {
   "cell_type": "code",
   "execution_count": 18,
   "id": "4ec9c456-0d0a-4958-86f9-b9d2b504500b",
   "metadata": {},
   "outputs": [
    {
     "data": {
      "text/plain": [
       "QueryResponse(points=[ScoredPoint(id=143, version=0, score=0.79207486, payload={'text': 'I found a good guide how to get acces to your machine again when you removed your public key.\\nUsing the following link you can go to Session Manager and log in to your instance and create public key again. https://repost.aws/knowledge-center/ec2-linux-fix-permission-denied-errors\\nThe main problem for me here was to get my old public key, so for doing this you should run the following command: ssh-keygen -y -f /path_to_key_pair/my-key-pair.pem\\nFor more information: https://docs.aws.amazon.com/AWSEC2/latest/UserGuide/describe-keys.html#retrieving-the-public-key\\nHanna Zhukavets (a.zhukovec1901@gmail.com)', 'section': 'Module 1: Introduction', 'course': 'mlops-zoomcamp'}, vector=None, shard_key=None, order_value=None)])"
      ]
     },
     "execution_count": 18,
     "metadata": {},
     "output_type": "execute_result"
    }
   ],
   "source": [
    "result = search(course_piece['question'])\n",
    "result"
   ]
  },
  {
   "cell_type": "code",
   "execution_count": 19,
   "id": "f6c14dd0-2105-4209-9964-69d30882d8dc",
   "metadata": {},
   "outputs": [
    {
     "data": {
      "text/plain": [
       "[{'text': 'I found a good guide how to get acces to your machine again when you removed your public key.\\nUsing the following link you can go to Session Manager and log in to your instance and create public key again. https://repost.aws/knowledge-center/ec2-linux-fix-permission-denied-errors\\nThe main problem for me here was to get my old public key, so for doing this you should run the following command: ssh-keygen -y -f /path_to_key_pair/my-key-pair.pem\\nFor more information: https://docs.aws.amazon.com/AWSEC2/latest/UserGuide/describe-keys.html#retrieving-the-public-key\\nHanna Zhukavets (a.zhukovec1901@gmail.com)',\n",
       "  'section': 'Module 1: Introduction',\n",
       "  'course': 'mlops-zoomcamp'}]"
      ]
     },
     "execution_count": 19,
     "metadata": {},
     "output_type": "execute_result"
    }
   ],
   "source": [
    "[doc.payload for doc in result.points]"
   ]
  },
  {
   "cell_type": "code",
   "execution_count": 20,
   "id": "f0691bcb-a0ed-42b1-a0c1-dbbc994bef6a",
   "metadata": {},
   "outputs": [
    {
     "name": "stdout",
     "output_type": "stream",
     "text": [
      "=== Question ===\n",
      "Uploading to s3 fails with An error occurred (InvalidAccessKeyId) when calling the PutObject operation: The AWS Access Key Id you provided does not exist in our records.\"\n",
      "\n",
      "=== Top Retrieved Answer ===\n",
      "I found a good guide how to get acces to your machine again when you removed your public key.\n",
      "Using the following link you can go to Session Manager and log in to your instance and create public key again. https://repost.aws/knowledge-center/ec2-linux-fix-permission-denied-errors\n",
      "The main problem for me here was to get my old public key, so for doing this you should run the following command: ssh-keygen -y -f /path_to_key_pair/my-key-pair.pem\n",
      "For more information: https://docs.aws.amazon.com/AWSEC2/latest/UserGuide/describe-keys.html#retrieving-the-public-key\n",
      "Hanna Zhukavets (a.zhukovec1901@gmail.com)\n",
      "\n",
      "=== Original answer ===\n",
      "Even though the upload works using aws cli and boto3 in Jupyter notebook.\n",
      "Solution set the AWS_PROFILE environment variable (the default profile is called default)\n"
     ]
    }
   ],
   "source": [
    "print(f\"=== Question ===\\n{course_piece['question']}\\n\")\n",
    "print(f\"=== Top Retrieved Answer ===\\n{result.points[0].payload['text']}\\n\")\n",
    "print(f\"=== Original answer ===\\n{course_piece['text']}\")"
   ]
  },
  {
   "cell_type": "code",
   "execution_count": 21,
   "id": "e58cc325-5742-48fe-b8cc-51dbfd63e388",
   "metadata": {},
   "outputs": [
    {
     "name": "stdout",
     "output_type": "stream",
     "text": [
      "No, late submissions are not allowed. But if the form is still not closed and it’s after the due date, you can still submit the homework. confirm your submission by the date-timestamp on the Course page.y\n",
      "Older news:[source1] [source2]\n"
     ]
    }
   ],
   "source": [
    "print(search('what if i submit homework late').points[0].payload['text'])"
   ]
  },
  {
   "cell_type": "code",
   "execution_count": 22,
   "id": "13449137-ab14-40c3-9d47-ef82a9bd9d93",
   "metadata": {},
   "outputs": [
    {
     "data": {
      "text/plain": [
       "UpdateResult(operation_id=2, status=<UpdateStatus.COMPLETED: 'completed'>)"
      ]
     },
     "execution_count": 22,
     "metadata": {},
     "output_type": "execute_result"
    }
   ],
   "source": [
    "client.create_payload_index(\n",
    "    collection_name=collection_name,\n",
    "    field_name='course',\n",
    "    field_schema='keyword'\n",
    ")"
   ]
  },
  {
   "cell_type": "code",
   "execution_count": 23,
   "id": "6731c57e-5130-4208-ae78-8fdf86f44bba",
   "metadata": {},
   "outputs": [],
   "source": [
    "def search_in_course(query, course='mlops-zoomcamp', limit=1):\n",
    "    results = client.query_points(\n",
    "        collection_name=collection_name,\n",
    "        query=models.Document(\n",
    "            text=query,\n",
    "            model=model_handle\n",
    "        ),\n",
    "        query_filter=models.Filter(\n",
    "            must=[\n",
    "                models.FieldCondition(\n",
    "                    key='course',\n",
    "                    match=models.MatchValue(value=course)\n",
    "                )\n",
    "            ]\n",
    "        )\n",
    "    )\n",
    "    return results"
   ]
  },
  {
   "cell_type": "code",
   "execution_count": 24,
   "id": "a00dd865-e68f-400e-a367-70b478c9773d",
   "metadata": {},
   "outputs": [
    {
     "name": "stdout",
     "output_type": "stream",
     "text": [
      "Please choose the closest one to your answer. Also do not post your answer in the course slack channel.\n"
     ]
    }
   ],
   "source": [
    "print(search_in_course('what if i submit homework late', course='mlops-zoomcamp', limit=1).points[0].payload['text'])"
   ]
  },
  {
   "cell_type": "code",
   "execution_count": null,
   "id": "9811ba5b-4abc-4164-9060-da3d905f38ec",
   "metadata": {},
   "outputs": [],
   "source": []
  }
 ],
 "metadata": {
  "kernelspec": {
   "display_name": "Python 3 (ipykernel)",
   "language": "python",
   "name": "python3"
  },
  "language_info": {
   "codemirror_mode": {
    "name": "ipython",
    "version": 3
   },
   "file_extension": ".py",
   "mimetype": "text/x-python",
   "name": "python",
   "nbconvert_exporter": "python",
   "pygments_lexer": "ipython3",
   "version": "3.12.1"
  }
 },
 "nbformat": 4,
 "nbformat_minor": 5
}
