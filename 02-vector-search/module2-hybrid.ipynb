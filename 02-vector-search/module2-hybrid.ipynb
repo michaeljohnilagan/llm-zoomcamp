{
 "cells": [
  {
   "cell_type": "code",
   "execution_count": 1,
   "id": "18f8c430-5ed1-483c-90e9-90dc71c948d6",
   "metadata": {},
   "outputs": [],
   "source": [
    "from datetime import datetime"
   ]
  },
  {
   "cell_type": "code",
   "execution_count": 2,
   "id": "14be161a-3f57-4a9c-a035-32e485b3d783",
   "metadata": {},
   "outputs": [
    {
     "name": "stderr",
     "output_type": "stream",
     "text": [
      "/usr/local/python/3.12.1/lib/python3.12/site-packages/tqdm/auto.py:21: TqdmWarning: IProgress not found. Please update jupyter and ipywidgets. See https://ipywidgets.readthedocs.io/en/stable/user_install.html\n",
      "  from .autonotebook import tqdm as notebook_tqdm\n"
     ]
    },
    {
     "data": {
      "text/plain": [
       "CollectionsResponse(collections=[CollectionDescription(name='sparse'), CollectionDescription(name='sparse+dense'), CollectionDescription(name='zoomcamp-rag')])"
      ]
     },
     "execution_count": 2,
     "metadata": {},
     "output_type": "execute_result"
    }
   ],
   "source": [
    "from qdrant_client import QdrantClient\n",
    "client = QdrantClient('http://localhost:6333')\n",
    "client.get_collections()"
   ]
  },
  {
   "cell_type": "code",
   "execution_count": 3,
   "id": "70f8ac55-233d-4abd-9ccc-605332f6da0f",
   "metadata": {},
   "outputs": [],
   "source": [
    "import requests\n",
    "docs_url = 'https://github.com/alexeygrigorev/llm-rag-workshop/raw/main/notebooks/documents.json'\n",
    "docs_response = requests.get(docs_url)\n",
    "documents_raw = docs_response.json()"
   ]
  },
  {
   "cell_type": "code",
   "execution_count": 4,
   "id": "d0fbc747-f74b-44ff-8606-1762bfb706cd",
   "metadata": {},
   "outputs": [
    {
     "name": "stdout",
     "output_type": "stream",
     "text": [
      "dict_keys(['course', 'documents'])\n",
      "dict_keys(['text', 'section', 'question'])\n",
      "['data-engineering-zoomcamp', 'machine-learning-zoomcamp', 'mlops-zoomcamp']\n"
     ]
    }
   ],
   "source": [
    "print(documents_raw[0].keys())\n",
    "print(documents_raw[0]['documents'][0].keys())\n",
    "print([d['course'] for d in documents_raw])"
   ]
  },
  {
   "cell_type": "code",
   "execution_count": 5,
   "id": "19665345-2af9-401b-9554-616be05b005f",
   "metadata": {},
   "outputs": [],
   "source": [
    "from qdrant_client import models"
   ]
  },
  {
   "cell_type": "code",
   "execution_count": 6,
   "id": "f8d065e2-e16e-424a-b218-be83cc1e88d9",
   "metadata": {},
   "outputs": [
    {
     "data": {
      "text/plain": [
       "True"
      ]
     },
     "execution_count": 6,
     "metadata": {},
     "output_type": "execute_result"
    }
   ],
   "source": [
    "client.delete_collection(collection_name='sparse')\n",
    "client.create_collection(\n",
    "\tcollection_name='sparse',\n",
    "\tsparse_vectors_config={\n",
    "\t\t'bm25' : models.SparseVectorParams(\n",
    "\t\t\tmodifier=models.Modifier.IDF,\n",
    "\t\t)\n",
    "\t}\n",
    ")"
   ]
  },
  {
   "cell_type": "code",
   "execution_count": 7,
   "id": "1c2805b6-6d52-4127-9ab5-56004e2c3987",
   "metadata": {},
   "outputs": [],
   "source": [
    "import uuid\n",
    "\n",
    "points = []\n",
    "\n",
    "for course in documents_raw:\n",
    "\tfor doc in course['documents']:\n",
    "\t\tpoint = models.PointStruct(\n",
    "\t\t\tid=uuid.uuid4().hex,\n",
    "\t\t\tvector={\n",
    "\t\t\t\t'bm25' : models.Document(\n",
    "\t\t\t\t\ttext=doc['text'],\n",
    "\t\t\t\t\tmodel='Qdrant/bm25'\n",
    "\t\t\t\t)\n",
    "\t\t\t},\n",
    "\t\t\tpayload={\n",
    "\t\t\t\t'text' : doc['text'],\n",
    "\t\t\t\t'section' : doc['section'],\n",
    "\t\t\t\t'course' : course['course']\n",
    "\t\t\t}\n",
    "\t\t)\n",
    "\t\tpoints.append(point)"
   ]
  },
  {
   "cell_type": "code",
   "execution_count": 8,
   "id": "dbab6b6b-89f0-42d3-9c27-a86c9836c02f",
   "metadata": {},
   "outputs": [
    {
     "data": {
      "text/plain": [
       "UpdateResult(operation_id=0, status=<UpdateStatus.COMPLETED: 'completed'>)"
      ]
     },
     "execution_count": 8,
     "metadata": {},
     "output_type": "execute_result"
    }
   ],
   "source": [
    "client.upsert(\n",
    "\tcollection_name='sparse',\n",
    "\tpoints=points\n",
    ")"
   ]
  },
  {
   "cell_type": "code",
   "execution_count": 9,
   "id": "d221b7e8-9b32-410b-8e90-66fa7c0f42cc",
   "metadata": {},
   "outputs": [],
   "source": [
    "def search(query, limit=1):\n",
    "\tresults = client.query_points(\n",
    "\t\tcollection_name='sparse',\n",
    "\t\tquery=models.Document(\n",
    "\t\t\ttext=query,\n",
    "\t\t\tmodel='Qdrant/bm25'\n",
    "\t\t),\n",
    "\t\tusing='bm25',\n",
    "\t\tlimit=limit,\n",
    "\t\twith_payload=True\n",
    "\t)\n",
    "\treturn results.points"
   ]
  },
  {
   "cell_type": "code",
   "execution_count": 10,
   "id": "066bc514-591a-4442-a88b-9bbd67702dcc",
   "metadata": {},
   "outputs": [
    {
     "data": {
      "text/plain": [
       "[]"
      ]
     },
     "execution_count": 10,
     "metadata": {},
     "output_type": "execute_result"
    }
   ],
   "source": [
    "results = search('Qdrant')\n",
    "results"
   ]
  },
  {
   "cell_type": "code",
   "execution_count": 11,
   "id": "353076ba-84bf-4973-83f1-453c06177262",
   "metadata": {},
   "outputs": [
    {
     "name": "stdout",
     "output_type": "stream",
     "text": [
      "You can use round() function or f-strings\n",
      "round(number, 4)  - this will round number up to 4 decimal places\n",
      "print(f'Average mark for the Homework is {avg:.3f}') - using F string\n",
      "Also there is pandas.Series. round idf you need to round values in the whole Series\n",
      "Please check the documentation\n",
      "https://pandas.pydata.org/pandas-docs/stable/reference/api/pandas.Series.round.html#pandas.Series.round\n",
      "Added by Olga Rudakova\n"
     ]
    }
   ],
   "source": [
    "results = search('pandas')\n",
    "print(results[0].payload['text'])"
   ]
  },
  {
   "cell_type": "code",
   "execution_count": 12,
   "id": "27aae39f-0cf2-4815-8f48-398bcff160a1",
   "metadata": {},
   "outputs": [
    {
     "data": {
      "text/plain": [
       "6.0392046"
      ]
     },
     "execution_count": 12,
     "metadata": {},
     "output_type": "execute_result"
    }
   ],
   "source": [
    "results[0].score"
   ]
  },
  {
   "cell_type": "code",
   "execution_count": 13,
   "id": "c740e1e4-4a4f-4b4d-84f9-c19f2eb650d5",
   "metadata": {},
   "outputs": [
    {
     "name": "stdout",
     "output_type": "stream",
     "text": [
      "{\n",
      "  \"text\": \"Even though the upload works using aws cli and boto3 in Jupyter notebook.\\nSolution set the AWS_PROFILE environment variable (the default profile is called default)\",\n",
      "  \"section\": \"Module 4: Deployment\",\n",
      "  \"question\": \"Uploading to s3 fails with An error occurred (InvalidAccessKeyId) when calling the PutObject operation: The AWS Access Key Id you provided does not exist in our records.\\\"\"\n",
      "}\n"
     ]
    }
   ],
   "source": [
    "import random\n",
    "import json\n",
    "\n",
    "random.seed(202506)\n",
    "\n",
    "course = random.choice(documents_raw)\n",
    "course_piece = random.choice(course['documents'])\n",
    "print(json.dumps(course_piece, indent=2))\n"
   ]
  },
  {
   "cell_type": "code",
   "execution_count": 14,
   "id": "f4dbbd04-e0e8-437a-8d5f-069fac398f90",
   "metadata": {},
   "outputs": [
    {
     "name": "stdout",
     "output_type": "stream",
     "text": [
      "The trial dbt account provides access to dbt API. Job will still be needed to be added manually. Airflow will run the job using a python operator calling the API. You will need to provide api key, job id, etc. (be careful not committing it to Github).\n",
      "Detailed explanation here: https://docs.getdbt.com/blog/dbt-airflow-spiritual-alignment\n",
      "Source code example here: https://github.com/sungchun12/airflow-toolkit/blob/95d40ac76122de337e1b1cdc8eed35ba1c3051ed/dags/examples/dbt_cloud_example.py\n"
     ]
    }
   ],
   "source": [
    "results = search(course_piece['question'])\n",
    "print(results[0].payload['text'])"
   ]
  },
  {
   "cell_type": "code",
   "execution_count": 15,
   "id": "91802619-cdd6-4430-bc6c-c9b88a881645",
   "metadata": {},
   "outputs": [
    {
     "data": {
      "text/plain": [
       "True"
      ]
     },
     "execution_count": 15,
     "metadata": {},
     "output_type": "execute_result"
    }
   ],
   "source": [
    "client.delete_collection(collection_name='sparse+dense')\n",
    "client.create_collection(\n",
    "\tcollection_name='sparse+dense',\n",
    "\tvectors_config={\n",
    "\t\t'jina-small' : models.VectorParams(\n",
    "\t\t\tsize=512,\n",
    "\t\t\tdistance=models.Distance.COSINE\n",
    "\t\t)\n",
    "\t},\n",
    "\tsparse_vectors_config={\n",
    "\t\t'bm25' : models.SparseVectorParams(\n",
    "\t\t\tmodifier=models.Modifier.IDF\n",
    "\t\t)\n",
    "\t}\n",
    ")"
   ]
  },
  {
   "cell_type": "code",
   "execution_count": 16,
   "id": "9715ca70-d601-436c-b7f4-38b2e266a08a",
   "metadata": {},
   "outputs": [],
   "source": [
    "points = []\n",
    "num_docs_per_course_used = 75\n",
    "\n",
    "for course in documents_raw:\n",
    "\tfor doc in course['documents'][:num_docs_per_course_used]:\n",
    "\t\tpoint = models.PointStruct(\n",
    "\t\t\tid=uuid.uuid4().hex,\n",
    "\t\t\tvector={\n",
    "\t\t\t\t'jina-small' : models.Document(\n",
    "\t\t\t\t\ttext=doc['text'],\n",
    "\t\t\t\t\tmodel='jinaai/jina-embeddings-v2-small-en'\n",
    "\t\t\t\t),\n",
    "\t\t\t\t'bm25' : models.Document(\n",
    "\t\t\t\t\ttext=doc['text'],\n",
    "\t\t\t\t\tmodel='Qdrant/bm25'\n",
    "\t\t\t\t)\n",
    "\t\t\t},\n",
    "\t\t\tpayload={\n",
    "\t\t\t\t'text' : doc['text'],\n",
    "\t\t\t\t'section' : doc['section'],\n",
    "\t\t\t\t'course' : course['course']\n",
    "\t\t\t}\n",
    "\t\t)\n",
    "\t\tpoints.append(point)"
   ]
  },
  {
   "cell_type": "code",
   "execution_count": 17,
   "id": "6e354c57-ca36-4f10-acfe-20d9781417e4",
   "metadata": {},
   "outputs": [
    {
     "name": "stdout",
     "output_type": "stream",
     "text": [
      "2025-06-27 02:17:02.837287\n",
      "2025-06-27 02:17:41.366770\n"
     ]
    }
   ],
   "source": [
    "print(datetime.now())\n",
    "client.upsert(\n",
    "\tcollection_name='sparse+dense',\n",
    "\tpoints=points\n",
    ")\n",
    "print(datetime.now())"
   ]
  },
  {
   "cell_type": "code",
   "execution_count": 18,
   "id": "8da30471-a0cd-48d8-bb27-e857b5d72696",
   "metadata": {},
   "outputs": [],
   "source": [
    "def multi_stage_search(query, limit=1):\n",
    "\tresults = client.query_points(\n",
    "\t\tcollection_name='sparse+dense',\n",
    "\t\tprefetch=[\n",
    "\t\t\tmodels.Prefetch(\n",
    "\t\t\t\tquery=models.Document(\n",
    "\t\t\t\t\ttext=query,\n",
    "\t\t\t\t\tmodel='jinaai/jina-embeddings-v2-small-en'\n",
    "\t\t\t\t),\n",
    "\t\t\t\tusing='jina-small',\n",
    "\t\t\t\tlimit=10*limit\n",
    "\t\t\t)\n",
    "\t\t],\n",
    "\t\tquery=models.Document(\n",
    "\t\t\ttext=query,\n",
    "\t\t\tmodel='Qdrant/bm25'\n",
    "\t\t),\n",
    "\t\tusing='bm25',\n",
    "\t\tlimit=limit,\n",
    "\t\twith_payload=True\n",
    "\t)\n",
    "\treturn results.points"
   ]
  },
  {
   "cell_type": "code",
   "execution_count": 19,
   "id": "f75b1ffb-c4a2-4a27-8bff-3ae90bbe007f",
   "metadata": {},
   "outputs": [
    {
     "name": "stdout",
     "output_type": "stream",
     "text": [
      "{\n",
      "  \"text\": \"Even though the upload works using aws cli and boto3 in Jupyter notebook.\\nSolution set the AWS_PROFILE environment variable (the default profile is called default)\",\n",
      "  \"section\": \"Module 4: Deployment\",\n",
      "  \"question\": \"Uploading to s3 fails with An error occurred (InvalidAccessKeyId) when calling the PutObject operation: The AWS Access Key Id you provided does not exist in our records.\\\"\"\n",
      "}\n"
     ]
    }
   ],
   "source": [
    "print(json.dumps(course_piece, indent=2))"
   ]
  },
  {
   "cell_type": "code",
   "execution_count": 20,
   "id": "b3982046-e501-419e-a25a-ed4ab826eac0",
   "metadata": {},
   "outputs": [
    {
     "name": "stdout",
     "output_type": "stream",
     "text": [
      "My SSH connection to AWS cannot last more than a few minutes, whether via terminal or VS code.\n",
      "My config:\n",
      "# Copy Configuration in local nano editor, then Save it!\n",
      "Host mlops-zoomcamp                                         # ssh connection calling name\n",
      "User ubuntu                                             # username AWS EC2\n",
      "HostName <instance-public-IPv4-addr>                    # Public IP, it changes when Source EC2 is turned off.\n",
      "IdentityFile ~/.ssh/name-of-your-private-key-file.pem   # Private SSH key file path\n",
      "LocalForward 8888 localhost:8888                        # Connecting to a service on an internal network from the outside, static forward or set port user forward via on vscode\n",
      "StrictHostKeyChecking no\n",
      "Added by Muhammed Çelik\n",
      "The disconnection will occur whether I SSH via WSL2 or via VS Code, and usually occurs after I run some code, i.e. “import mlflow”, so not particularly intense computation.\n",
      "I cannot reconnect to the instance without stopping and restarting with a new IPv4 address.\n",
      "I’ve gone through steps listed on this page: https://aws.amazon.com/premiumsupport/knowledge-center/ec2-linux-resolve-ssh-connection-errors/\n",
      "Inbound rule should allow all incoming IPs for SSH.\n",
      "What I expect to happen:\n",
      "SSH connection should remain while I’m actively using the instance, and if it does disconnect, I should be able to reconnect back.\n",
      "Solution: sometimes the hang ups are caused by the instance running out of memory. In one instance, using EC2 feature to view screenshot of the instance as a means to troubleshoot, it was the OS out-of-memory feature which killed off some critical processes. In this case, if we can’t use a higher compute VM with more RAM, try adding a swap file, which uses the disk as RAM substitute and prevents the OOM error. Follow Ubuntu’s documentation here: https://help.ubuntu.com/community/SwapFaq.\n",
      "Alternatively follow AWS’s own doc, which mirrors Ubuntu’s: https://aws.amazon.com/premiumsupport/knowledge-center/ec2-memory-swap-file/\n"
     ]
    }
   ],
   "source": [
    "results = multi_stage_search(course_piece['question'])\n",
    "print(results[0].payload['text'])"
   ]
  },
  {
   "cell_type": "code",
   "execution_count": 21,
   "id": "9207f6ee-9abf-46c4-99e0-76694cc272ab",
   "metadata": {},
   "outputs": [],
   "source": [
    "def rrf_search(query, limit=1):\n",
    "\tresults = client.query_points(\n",
    "\t\tcollection_name='sparse+dense',\n",
    "\t\tprefetch=[\n",
    "\t\t\tmodels.Prefetch(\n",
    "\t\t\t\tquery=models.Document(\n",
    "\t\t\t\t\ttext=query,\n",
    "\t\t\t\t\tmodel='jinaai/jina-embeddings-v2-small-en'\n",
    "\t\t\t\t),\n",
    "\t\t\t\tusing='jina-small',\n",
    "\t\t\t\tlimit=5*limit\n",
    "\t\t\t),\n",
    "            models.Prefetch(\n",
    "\t\t\t\tquery=models.Document(\n",
    "\t\t\t\t\ttext=query,\n",
    "\t\t\t\t\tmodel='Qdrant/bm25'\n",
    "\t\t\t\t),\n",
    "\t\t\t\tusing='bm25',\n",
    "\t\t\t\tlimit=5*limit\n",
    "\t\t\t)\n",
    "\t\t],\n",
    "\t\tquery=models.FusionQuery(fusion=models.Fusion.RRF),\n",
    "\t\twith_payload=True\n",
    "\t)\n",
    "\treturn results.points"
   ]
  },
  {
   "cell_type": "code",
   "execution_count": 22,
   "id": "a547e4d3-000a-4564-9240-e20aee4c9bfd",
   "metadata": {},
   "outputs": [
    {
     "name": "stdout",
     "output_type": "stream",
     "text": [
      "{\n",
      "  \"text\": \"Even though the upload works using aws cli and boto3 in Jupyter notebook.\\nSolution set the AWS_PROFILE environment variable (the default profile is called default)\",\n",
      "  \"section\": \"Module 4: Deployment\",\n",
      "  \"question\": \"Uploading to s3 fails with An error occurred (InvalidAccessKeyId) when calling the PutObject operation: The AWS Access Key Id you provided does not exist in our records.\\\"\"\n",
      "}\n",
      "My SSH connection to AWS cannot last more than a few minutes, whether via terminal or VS code.\n",
      "My config:\n",
      "# Copy Configuration in local nano editor, then Save it!\n",
      "Host mlops-zoomcamp                                         # ssh connection calling name\n",
      "User ubuntu                                             # username AWS EC2\n",
      "HostName <instance-public-IPv4-addr>                    # Public IP, it changes when Source EC2 is turned off.\n",
      "IdentityFile ~/.ssh/name-of-your-private-key-file.pem   # Private SSH key file path\n",
      "LocalForward 8888 localhost:8888                        # Connecting to a service on an internal network from the outside, static forward or set port user forward via on vscode\n",
      "StrictHostKeyChecking no\n",
      "Added by Muhammed Çelik\n",
      "The disconnection will occur whether I SSH via WSL2 or via VS Code, and usually occurs after I run some code, i.e. “import mlflow”, so not particularly intense computation.\n",
      "I cannot reconnect to the instance without stopping and restarting with a new IPv4 address.\n",
      "I’ve gone through steps listed on this page: https://aws.amazon.com/premiumsupport/knowledge-center/ec2-linux-resolve-ssh-connection-errors/\n",
      "Inbound rule should allow all incoming IPs for SSH.\n",
      "What I expect to happen:\n",
      "SSH connection should remain while I’m actively using the instance, and if it does disconnect, I should be able to reconnect back.\n",
      "Solution: sometimes the hang ups are caused by the instance running out of memory. In one instance, using EC2 feature to view screenshot of the instance as a means to troubleshoot, it was the OS out-of-memory feature which killed off some critical processes. In this case, if we can’t use a higher compute VM with more RAM, try adding a swap file, which uses the disk as RAM substitute and prevents the OOM error. Follow Ubuntu’s documentation here: https://help.ubuntu.com/community/SwapFaq.\n",
      "Alternatively follow AWS’s own doc, which mirrors Ubuntu’s: https://aws.amazon.com/premiumsupport/knowledge-center/ec2-memory-swap-file/\n"
     ]
    }
   ],
   "source": [
    "results = rrf_search(course_piece['question'])\n",
    "print(json.dumps(course_piece, indent=2))\n",
    "print(results[0].payload['text'])"
   ]
  }
 ],
 "metadata": {
  "kernelspec": {
   "display_name": "Python 3 (ipykernel)",
   "language": "python",
   "name": "python3"
  },
  "language_info": {
   "codemirror_mode": {
    "name": "ipython",
    "version": 3
   },
   "file_extension": ".py",
   "mimetype": "text/x-python",
   "name": "python",
   "nbconvert_exporter": "python",
   "pygments_lexer": "ipython3",
   "version": "3.12.1"
  }
 },
 "nbformat": 4,
 "nbformat_minor": 5
}
