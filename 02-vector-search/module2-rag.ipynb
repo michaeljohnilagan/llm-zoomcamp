{
 "cells": [
  {
   "cell_type": "code",
   "execution_count": 1,
   "id": "e9b502da-3602-4435-80ab-bf141e7c9dc7",
   "metadata": {},
   "outputs": [],
   "source": [
    "import requests\n",
    "docs_url = 'https://github.com/alexeygrigorev/llm-rag-workshop/raw/main/notebooks/documents.json'\n",
    "docs_response = requests.get(docs_url)\n",
    "documents_raw = docs_response.json()"
   ]
  },
  {
   "cell_type": "code",
   "execution_count": 2,
   "id": "866e60ca-f00f-4d60-b883-e72dba926209",
   "metadata": {},
   "outputs": [],
   "source": [
    "documents = []\n",
    "for course in documents_raw:\n",
    "    course_name = course['course']\n",
    "    for doc in course['documents']:\n",
    "        doc['course'] = course_name\n",
    "        documents.append(doc)"
   ]
  },
  {
   "cell_type": "code",
   "execution_count": 3,
   "id": "e64c707b-480b-4726-b3e5-6ee60c97338e",
   "metadata": {},
   "outputs": [
    {
     "data": {
      "text/plain": [
       "[{'text': \"The purpose of this document is to capture frequently asked technical questions\\nThe exact day and hour of the course will be 15th Jan 2024 at 17h00. The course will start with the first  “Office Hours'' live.1\\nSubscribe to course public Google Calendar (it works from Desktop only).\\nRegister before the course starts using this link.\\nJoin the course Telegram channel with announcements.\\nDon’t forget to register in DataTalks.Club's Slack and join the channel.\",\n",
       "  'section': 'General course-related questions',\n",
       "  'question': 'Course - When will the course start?',\n",
       "  'course': 'data-engineering-zoomcamp'},\n",
       " {'text': 'GitHub - DataTalksClub data-engineering-zoomcamp#prerequisites',\n",
       "  'section': 'General course-related questions',\n",
       "  'question': 'Course - What are the prerequisites for this course?',\n",
       "  'course': 'data-engineering-zoomcamp'},\n",
       " {'text': \"Yes, even if you don't register, you're still eligible to submit the homeworks.\\nBe aware, however, that there will be deadlines for turning in the final projects. So don't leave everything for the last minute.\",\n",
       "  'section': 'General course-related questions',\n",
       "  'question': 'Course - Can I still join the course after the start date?',\n",
       "  'course': 'data-engineering-zoomcamp'}]"
      ]
     },
     "execution_count": 3,
     "metadata": {},
     "output_type": "execute_result"
    }
   ],
   "source": [
    "documents[:3]"
   ]
  },
  {
   "cell_type": "code",
   "execution_count": 4,
   "id": "a87faa34-78f1-4fc0-9e31-738f658dc492",
   "metadata": {},
   "outputs": [
    {
     "data": {
      "text/html": [
       "<div>\n",
       "<style scoped>\n",
       "    .dataframe tbody tr th:only-of-type {\n",
       "        vertical-align: middle;\n",
       "    }\n",
       "\n",
       "    .dataframe tbody tr th {\n",
       "        vertical-align: top;\n",
       "    }\n",
       "\n",
       "    .dataframe thead th {\n",
       "        text-align: right;\n",
       "    }\n",
       "</style>\n",
       "<table border=\"1\" class=\"dataframe\">\n",
       "  <thead>\n",
       "    <tr style=\"text-align: right;\">\n",
       "      <th></th>\n",
       "      <th>text</th>\n",
       "      <th>section</th>\n",
       "      <th>question</th>\n",
       "      <th>course</th>\n",
       "    </tr>\n",
       "  </thead>\n",
       "  <tbody>\n",
       "    <tr>\n",
       "      <th>0</th>\n",
       "      <td>The purpose of this document is to capture fre...</td>\n",
       "      <td>General course-related questions</td>\n",
       "      <td>Course - When will the course start?</td>\n",
       "      <td>data-engineering-zoomcamp</td>\n",
       "    </tr>\n",
       "    <tr>\n",
       "      <th>1</th>\n",
       "      <td>GitHub - DataTalksClub data-engineering-zoomca...</td>\n",
       "      <td>General course-related questions</td>\n",
       "      <td>Course - What are the prerequisites for this c...</td>\n",
       "      <td>data-engineering-zoomcamp</td>\n",
       "    </tr>\n",
       "    <tr>\n",
       "      <th>2</th>\n",
       "      <td>Yes, even if you don't register, you're still ...</td>\n",
       "      <td>General course-related questions</td>\n",
       "      <td>Course - Can I still join the course after the...</td>\n",
       "      <td>data-engineering-zoomcamp</td>\n",
       "    </tr>\n",
       "    <tr>\n",
       "      <th>3</th>\n",
       "      <td>You don't need it. You're accepted. You can al...</td>\n",
       "      <td>General course-related questions</td>\n",
       "      <td>Course - I have registered for the Data Engine...</td>\n",
       "      <td>data-engineering-zoomcamp</td>\n",
       "    </tr>\n",
       "    <tr>\n",
       "      <th>4</th>\n",
       "      <td>You can start by installing and setting up all...</td>\n",
       "      <td>General course-related questions</td>\n",
       "      <td>Course - What can I do before the course starts?</td>\n",
       "      <td>data-engineering-zoomcamp</td>\n",
       "    </tr>\n",
       "  </tbody>\n",
       "</table>\n",
       "</div>"
      ],
      "text/plain": [
       "                                                text  \\\n",
       "0  The purpose of this document is to capture fre...   \n",
       "1  GitHub - DataTalksClub data-engineering-zoomca...   \n",
       "2  Yes, even if you don't register, you're still ...   \n",
       "3  You don't need it. You're accepted. You can al...   \n",
       "4  You can start by installing and setting up all...   \n",
       "\n",
       "                            section  \\\n",
       "0  General course-related questions   \n",
       "1  General course-related questions   \n",
       "2  General course-related questions   \n",
       "3  General course-related questions   \n",
       "4  General course-related questions   \n",
       "\n",
       "                                            question  \\\n",
       "0               Course - When will the course start?   \n",
       "1  Course - What are the prerequisites for this c...   \n",
       "2  Course - Can I still join the course after the...   \n",
       "3  Course - I have registered for the Data Engine...   \n",
       "4   Course - What can I do before the course starts?   \n",
       "\n",
       "                      course  \n",
       "0  data-engineering-zoomcamp  \n",
       "1  data-engineering-zoomcamp  \n",
       "2  data-engineering-zoomcamp  \n",
       "3  data-engineering-zoomcamp  \n",
       "4  data-engineering-zoomcamp  "
      ]
     },
     "execution_count": 4,
     "metadata": {},
     "output_type": "execute_result"
    }
   ],
   "source": [
    "import pandas as pd\n",
    "df_docs = pd.DataFrame.from_records(documents)\n",
    "df_docs.head()"
   ]
  },
  {
   "cell_type": "code",
   "execution_count": 5,
   "id": "f2b4660e-58e6-4477-b37c-7976c47b93e3",
   "metadata": {},
   "outputs": [],
   "source": [
    "import minsearch"
   ]
  },
  {
   "cell_type": "code",
   "execution_count": 6,
   "id": "7fb78a92-194c-4ecd-b689-0f24902efd84",
   "metadata": {},
   "outputs": [
    {
     "data": {
      "text/plain": [
       "<minsearch.minsearch.Index at 0x7b9f32a9e630>"
      ]
     },
     "execution_count": 6,
     "metadata": {},
     "output_type": "execute_result"
    }
   ],
   "source": [
    "index = minsearch.Index(\n",
    "    text_fields = ['question', 'text', 'section'],\n",
    "    keyword_fields = ['course']\n",
    ")\n",
    "index.fit(documents)"
   ]
  },
  {
   "cell_type": "code",
   "execution_count": 7,
   "id": "bbc69fb8-54c2-45e7-be91-51086d0ce5b2",
   "metadata": {},
   "outputs": [],
   "source": [
    "def search(query):\n",
    "    boost = {'question': 3.0, 'section': 0.5}\n",
    "    results = index.search(\n",
    "        query=query,\n",
    "        filter_dict={'course' : 'data-engineering-zoomcamp'},\n",
    "        boost_dict=boost,\n",
    "        num_results=5\n",
    "    )\n",
    "    return results"
   ]
  },
  {
   "cell_type": "code",
   "execution_count": 8,
   "id": "561a6a7b-c45b-4771-8dec-dbd69b8a5b5e",
   "metadata": {},
   "outputs": [],
   "source": [
    "import ollama"
   ]
  },
  {
   "cell_type": "code",
   "execution_count": 9,
   "id": "64bab6b2-ec12-4e66-810f-b10ec74667dd",
   "metadata": {},
   "outputs": [],
   "source": [
    "def build_prompt(query, search_result):\n",
    "    prompt_template = \"\"\"\n",
    "    You're a course teaching assistant. Answer the QUESTION based on the CONTEXT from the FAQ database.\n",
    "    Use only the facts from the CONTEXT when answering the QUESTION.\n",
    "    If the CONTEXT doesn't contain the answer, output NONE\n",
    "    \n",
    "    QUESTION: {question}\n",
    "    CONTEXT:\n",
    "    {context}\n",
    "    \"\"\".strip()\n",
    "    context = ''\n",
    "    for doc in search_result:\n",
    "        context = context + f\"section: {doc['section']}\\nquestion: {doc['question']}\\nanswer: {doc['text']}\\n\\n\"\n",
    "    prompt = prompt_template.format(question=query, context=context)\n",
    "    return prompt.strip()\n",
    "\n",
    "def llm(prompt):\n",
    "    model_name = 'llama3.2:1b'\n",
    "    print(model_name)\n",
    "    response = ollama.chat(model=model_name, messages=[{'role' : 'user', \\\n",
    "    'content' : prompt}])\n",
    "    return response['message']['content'] # ollama version\n",
    "\n",
    "def rag(query):\n",
    "    search_result = search(query)\n",
    "    prompt = build_prompt(query, search_result)\n",
    "    answer = llm(prompt)\n",
    "    return answer"
   ]
  },
  {
   "cell_type": "code",
   "execution_count": 10,
   "id": "a94f1504-fbe8-43d5-8c67-713e8db31cb2",
   "metadata": {},
   "outputs": [
    {
     "name": "stdout",
     "output_type": "stream",
     "text": [
      "2025-06-27 03:24:16.632419\n",
      "llama3.2:1b\n",
      "Since the course starts on January 15th, 2024 at 17h00, it is possible for students to join the course after its start date.\n",
      "2025-06-27 03:24:32.109103\n"
     ]
    }
   ],
   "source": [
    "from datetime import datetime\n",
    "print(datetime.now())\n",
    "print(rag('i just found out about this course. can i still join?'))\n",
    "print(datetime.now())"
   ]
  },
  {
   "cell_type": "code",
   "execution_count": 11,
   "id": "91c033ca-855e-42aa-adbf-01fd7fcb02fd",
   "metadata": {},
   "outputs": [
    {
     "name": "stderr",
     "output_type": "stream",
     "text": [
      "/usr/local/python/3.12.1/lib/python3.12/site-packages/tqdm/auto.py:21: TqdmWarning: IProgress not found. Please update jupyter and ipywidgets. See https://ipywidgets.readthedocs.io/en/stable/user_install.html\n",
      "  from .autonotebook import tqdm as notebook_tqdm\n"
     ]
    }
   ],
   "source": [
    "import google.generativeai as genai\n",
    "import os\n",
    "\n",
    "try:\n",
    "    genai.configure(api_key=os.environ['GOOGLE_API_KEY'])\n",
    "except KeyError:\n",
    "    print('set the GOOGLE_API_KEY environment variable first')"
   ]
  },
  {
   "cell_type": "code",
   "execution_count": 12,
   "id": "c20de14e-e24c-4f54-95a1-d8aedc13a662",
   "metadata": {},
   "outputs": [],
   "source": [
    "def llm_google(prompt):\n",
    "    model_name = 'gemma-3-1b-it'\n",
    "    print(model_name)\n",
    "    model = genai.GenerativeModel(model_name)\n",
    "    response = model.generate_content(prompt)\n",
    "    return response.text # google version\n",
    "\n",
    "def rag_google(query):\n",
    "    search_result = search(query)\n",
    "    prompt = build_prompt(query, search_result)\n",
    "    answer = llm_google(prompt)\n",
    "    return answer"
   ]
  },
  {
   "cell_type": "code",
   "execution_count": 13,
   "id": "f58600f0-d403-4e3f-90dd-a2e9574b5b0d",
   "metadata": {},
   "outputs": [
    {
     "data": {
      "text/plain": [
       "CollectionsResponse(collections=[CollectionDescription(name='vector+rag'), CollectionDescription(name='sparse'), CollectionDescription(name='sparse+dense'), CollectionDescription(name='zoomcamp-rag')])"
      ]
     },
     "execution_count": 13,
     "metadata": {},
     "output_type": "execute_result"
    }
   ],
   "source": [
    "from qdrant_client import QdrantClient\n",
    "client = QdrantClient('http://localhost:6333')\n",
    "client.get_collections()"
   ]
  },
  {
   "cell_type": "code",
   "execution_count": 14,
   "id": "21c517c9-2d01-4f63-aa3c-4e3619cebfd6",
   "metadata": {},
   "outputs": [],
   "source": [
    "from qdrant_client import models"
   ]
  },
  {
   "cell_type": "code",
   "execution_count": 15,
   "id": "32a8b813-be4c-48d6-84eb-73504e88a496",
   "metadata": {},
   "outputs": [
    {
     "name": "stdout",
     "output_type": "stream",
     "text": [
      "512\n",
      "jinaai/jina-embeddings-v2-small-en\n"
     ]
    }
   ],
   "source": [
    "embed_size = 512\n",
    "model_handle = 'jinaai/jina-embeddings-v2-small-en'\n",
    "print(embed_size)\n",
    "print(model_handle)"
   ]
  },
  {
   "cell_type": "code",
   "execution_count": 16,
   "id": "8d6786e7-4f7b-453d-9b84-cce1b070bff1",
   "metadata": {},
   "outputs": [
    {
     "data": {
      "text/plain": [
       "True"
      ]
     },
     "execution_count": 16,
     "metadata": {},
     "output_type": "execute_result"
    }
   ],
   "source": [
    "client.delete_collection(collection_name='vector+rag')\n",
    "client.create_collection(\n",
    "\tcollection_name='vector+rag',\n",
    "\tvectors_config=models.VectorParams(\n",
    "\t\tsize=embed_size,\n",
    "\t\tdistance=models.Distance.COSINE\n",
    "\t)\n",
    ")"
   ]
  },
  {
   "cell_type": "code",
   "execution_count": 17,
   "id": "d07a7122-4ff3-4190-8d15-d038cd5ae532",
   "metadata": {},
   "outputs": [
    {
     "data": {
      "text/plain": [
       "106"
      ]
     },
     "execution_count": 17,
     "metadata": {},
     "output_type": "execute_result"
    }
   ],
   "source": [
    "points = []\n",
    "\n",
    "for id, doc in enumerate(documents[0::9]):\n",
    "    text = doc['question'] + ' ' + doc['text']\n",
    "    vector = models.Document(text=text, model=model_handle)\n",
    "    point = models.PointStruct(\n",
    "        id=id,\n",
    "        vector=vector,\n",
    "        payload=doc\n",
    "    )\n",
    "    points.append(point)\n",
    "\n",
    "len(points)"
   ]
  },
  {
   "cell_type": "code",
   "execution_count": 18,
   "id": "cf5968fd-4b3a-4108-8c63-2b663415b444",
   "metadata": {},
   "outputs": [
    {
     "name": "stdout",
     "output_type": "stream",
     "text": [
      "2025-06-27 03:25:05.637453\n",
      "2025-06-27 03:25:27.889991\n"
     ]
    }
   ],
   "source": [
    "print(datetime.now())\n",
    "client.upsert(\n",
    "\tcollection_name='vector+rag',\n",
    "\tpoints=points\n",
    ")\n",
    "print(datetime.now())"
   ]
  },
  {
   "cell_type": "code",
   "execution_count": 19,
   "id": "d6ee9f0b-aec7-40ad-861a-75d1652beaa7",
   "metadata": {},
   "outputs": [
    {
     "data": {
      "text/plain": [
       "UpdateResult(operation_id=2, status=<UpdateStatus.COMPLETED: 'completed'>)"
      ]
     },
     "execution_count": 19,
     "metadata": {},
     "output_type": "execute_result"
    }
   ],
   "source": [
    "client.create_payload_index(\n",
    "    collection_name='vector+rag',\n",
    "    field_name='course',\n",
    "    field_schema='keyword'\n",
    ")"
   ]
  },
  {
   "cell_type": "code",
   "execution_count": 20,
   "id": "f5b221f9-1197-48f0-a02f-5c6ae59bcf55",
   "metadata": {},
   "outputs": [],
   "source": [
    "def vector_search(query, limit=1):\n",
    "    print('vector search is used')\n",
    "    course = 'data-engineering-zoomcamp'\n",
    "    query_points = client.query_points(\n",
    "        collection_name='vector+rag',\n",
    "        query=models.Document(\n",
    "            text=query,\n",
    "            model=model_handle\n",
    "        ),\n",
    "        query_filter=models.Filter(\n",
    "            must=[\n",
    "                models.FieldCondition(\n",
    "                    key='course',\n",
    "                    match=models.MatchValue(value=course)\n",
    "                )\n",
    "            ]\n",
    "        ),\n",
    "        limit=limit,\n",
    "        with_payload=True\n",
    "    )\n",
    "    results = [point.payload for point in query_points.points]\n",
    "    return results"
   ]
  },
  {
   "cell_type": "code",
   "execution_count": 21,
   "id": "47afc98a-6159-423d-8e9d-db3eb85a9811",
   "metadata": {},
   "outputs": [
    {
     "name": "stdout",
     "output_type": "stream",
     "text": [
      "vector search is used\n"
     ]
    },
    {
     "data": {
      "text/plain": [
       "[{'text': \"The purpose of this document is to capture frequently asked technical questions\\nThe exact day and hour of the course will be 15th Jan 2024 at 17h00. The course will start with the first  “Office Hours'' live.1\\nSubscribe to course public Google Calendar (it works from Desktop only).\\nRegister before the course starts using this link.\\nJoin the course Telegram channel with announcements.\\nDon’t forget to register in DataTalks.Club's Slack and join the channel.\",\n",
       "  'section': 'General course-related questions',\n",
       "  'question': 'Course - When will the course start?',\n",
       "  'course': 'data-engineering-zoomcamp'}]"
      ]
     },
     "execution_count": 21,
     "metadata": {},
     "output_type": "execute_result"
    }
   ],
   "source": [
    "vector_search('the course has already started. can i still join?')"
   ]
  },
  {
   "cell_type": "code",
   "execution_count": 23,
   "id": "cd20302b-90d7-45de-9fe4-b82f40bd5e42",
   "metadata": {},
   "outputs": [],
   "source": [
    "def rag(query, limit=1):\n",
    "    search_result = vector_search(query, limit=limit)\n",
    "    prompt = build_prompt(query, search_result)\n",
    "    answer = llm(prompt)\n",
    "    return answer"
   ]
  },
  {
   "cell_type": "code",
   "execution_count": 24,
   "id": "29f7b465-872b-40d9-974a-89b5b28cf019",
   "metadata": {},
   "outputs": [
    {
     "name": "stdout",
     "output_type": "stream",
     "text": [
      "2025-06-27 03:26:20.063438\n",
      "vector search is used\n",
      "llama3.2:1b\n",
      "I couldn't find any information about the course in the provided CONTEXT, so I'll answer based on the available text:\n",
      "\n",
      "i just found out about this course. can i still join?\n",
      "\n",
      "NONE\n",
      "2025-06-27 03:26:26.983354\n"
     ]
    }
   ],
   "source": [
    "print(datetime.now())\n",
    "print(rag('i just found out about this course. can i still join?'))\n",
    "print(datetime.now())"
   ]
  },
  {
   "cell_type": "code",
   "execution_count": 25,
   "id": "e40a5a64-e26b-425c-864d-445b649b8be2",
   "metadata": {},
   "outputs": [
    {
     "name": "stdout",
     "output_type": "stream",
     "text": [
      "2025-06-27 03:26:37.720018\n",
      "vector search is used\n",
      "llama3.2:1b\n",
      "I do not have any information in the CONTEXT about running Kafka or streaming data from it. TheCONTEXT only contains questions and answers related to building a project called \"java-kafka-rides\" which uses Java, PySpark, and possibly other libraries for various tasks such as data processing, streaming, and workflow orchestration.\n",
      "\n",
      "Therefore, I cannot provide any information on how to run Kafka or what to do if you encounter errors running it.\n",
      "2025-06-27 03:27:06.687667\n"
     ]
    }
   ],
   "source": [
    "print(datetime.now())\n",
    "print(rag('how do i run kafka?', 5))\n",
    "print(datetime.now())"
   ]
  },
  {
   "cell_type": "code",
   "execution_count": null,
   "id": "e68c111e-47a1-45f6-aba3-d0354157f20a",
   "metadata": {},
   "outputs": [],
   "source": []
  }
 ],
 "metadata": {
  "kernelspec": {
   "display_name": "Python 3 (ipykernel)",
   "language": "python",
   "name": "python3"
  },
  "language_info": {
   "codemirror_mode": {
    "name": "ipython",
    "version": 3
   },
   "file_extension": ".py",
   "mimetype": "text/x-python",
   "name": "python",
   "nbconvert_exporter": "python",
   "pygments_lexer": "ipython3",
   "version": "3.12.1"
  }
 },
 "nbformat": 4,
 "nbformat_minor": 5
}
